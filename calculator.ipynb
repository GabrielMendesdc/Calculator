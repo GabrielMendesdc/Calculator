{
 "cells": [
  {
   "cell_type": "code",
   "execution_count": 2,
   "id": "35a23bb2",
   "metadata": {},
   "outputs": [],
   "source": [
    "from tkinter import *\n",
    "import sys\n",
    "\n",
    "root = Tk()\n",
    "root.config(bg='pink')\n",
    "root.title(\"Calculadora\")\n",
    "\n",
    "def btn_click(item):\n",
    "    global expression\n",
    "    expression = expression + str(item)\n",
    "    input_text.set(expression)\n",
    "\n",
    "\n",
    "def btn_clear():\n",
    "    global expression\n",
    "    expression = \"\"\n",
    "    input_text.set(\"\")\n",
    "\n",
    "    \n",
    "def btn_equal():\n",
    "    global expression\n",
    "    result = str(eval(expression)) \n",
    "    input_text.set(result)\n",
    "    expression = \"\"\n",
    "expression = \"\"\n",
    " \n",
    "input_text = StringVar()\n",
    "\n",
    "input_frame = Frame(root, width = 250, height = 50, bd = 0, highlightbackground = \"black\", highlightcolor = \"black\", highlightthickness = 1)\n",
    " \n",
    "input_frame.pack(side = TOP)\n",
    " \n",
    "input_field = Entry(input_frame, font = ('arial', 18, 'bold'), textvariable = input_text, width = 30, bg = \"#eee\", bd = 0, justify = RIGHT)\n",
    " \n",
    "input_field.grid(row = 0, column = 0)\n",
    " \n",
    "input_field.pack(ipady = 10)\n",
    " \n",
    "btns_frame = Frame(root, width = 250, height = 272.5, bg = \"grey\")\n",
    " \n",
    "btns_frame.pack()\n",
    " \n",
    "clear = Button(btns_frame, text = \"C\", fg = \"black\", width = 32, height = 3, bd = 0, bg = \"#eee\",\n",
    "        cursor = \"hand2\", command = lambda: btn_clear()).grid(row = 0, column = 0, columnspan = 3, padx = 1, pady = 1)\n",
    "\n",
    "divide = Button(btns_frame, text = \"/\", fg = \"black\", width = 10, height = 3, bd = 0, bg = \"#eee\", cursor = \"hand2\",\n",
    "                command = lambda: btn_click(\"/\")).grid(row = 0, column = 3, padx = 1, pady = 1)\n",
    " \n",
    "seven = Button(btns_frame, text = \"7\", fg = \"black\", width = 10, height = 3, bd = 0, bg = \"#fff\", cursor = \"hand2\",\n",
    "               command = lambda: btn_click(7)).grid(row = 1, column = 0, padx = 1, pady = 1)\n",
    " \n",
    "eight = Button(btns_frame, text = \"8\", fg = \"black\", width = 10, height = 3, bd = 0, bg = \"#fff\", cursor = \"hand2\",\n",
    "               command = lambda: btn_click(8)).grid(row = 1, column = 1, padx = 1, pady = 1)\n",
    " \n",
    "nine = Button(btns_frame, text = \"9\", fg = \"black\", width = 10, height = 3, bd = 0, bg = \"#fff\", cursor = \"hand2\",\n",
    "              command = lambda: btn_click(9)).grid(row = 1, column = 2, padx = 1, pady = 1)\n",
    " \n",
    "multiply = Button(btns_frame, text = \"*\", fg = \"black\", width = 10, height = 3, bd = 0, bg = \"#eee\", cursor = \"hand2\",\n",
    "                  command = lambda: btn_click(\"*\")).grid(row = 1, column = 3, padx = 1, pady = 1)\n",
    " \n",
    "four = Button(btns_frame, text = \"4\", fg = \"black\", width = 10, height = 3, bd = 0, bg = \"#fff\", cursor = \"hand2\",\n",
    "              command = lambda: btn_click(4)).grid(row = 2, column = 0, padx = 1, pady = 1)\n",
    " \n",
    "five = Button(btns_frame, text = \"5\", fg = \"black\", width = 10, height = 3, bd = 0, bg = \"#fff\", cursor = \"hand2\",\n",
    "              command = lambda: btn_click(5)).grid(row = 2, column = 1, padx = 1, pady = 1)\n",
    " \n",
    "six = Button(btns_frame, text = \"6\", fg = \"black\", width = 10, height = 3, bd = 0, bg = \"#fff\", cursor = \"hand2\",\n",
    "             command = lambda: btn_click(6)).grid(row = 2, column = 2, padx = 1, pady = 1)\n",
    " \n",
    "minus = Button(btns_frame, text = \"-\", fg = \"black\", width = 10, height = 3, bd = 0, bg = \"#eee\", cursor = \"hand2\",\n",
    "               command = lambda: btn_click(\"-\")).grid(row = 2, column = 3, padx = 1, pady = 1)\n",
    " \n",
    "one = Button(btns_frame, text = \"1\", fg = \"black\", width = 10, height = 3, bd = 0, bg = \"#fff\", cursor = \"hand2\",\n",
    "             command = lambda: btn_click(1)).grid(row = 3, column = 0, padx = 1, pady = 1)\n",
    " \n",
    "two = Button(btns_frame, text = \"2\", fg = \"black\", width = 10, height = 3, bd = 0, bg = \"#fff\", cursor = \"hand2\",\n",
    "             command = lambda: btn_click(2)).grid(row = 3, column = 1, padx = 1, pady = 1)\n",
    " \n",
    "three = Button(btns_frame, text = \"3\", fg = \"black\", width = 10, height = 3, bd = 0, bg = \"#fff\", cursor = \"hand2\",\n",
    "               command = lambda: btn_click(3)).grid(row = 3, column = 2, padx = 1, pady = 1)\n",
    " \n",
    "plus = Button(btns_frame, text = \"+\", fg = \"black\", width = 10, height = 3, bd = 0, bg = \"#eee\", cursor = \"hand2\",\n",
    "              command = lambda: btn_click(\"+\")).grid(row = 3, column = 3, padx = 1, pady = 1)\n",
    " \n",
    "zero = Button(btns_frame, text = \"0\", fg = \"black\", width = 21, height = 3, bd = 0, bg = \"#fff\", cursor = \"hand2\",\n",
    "              command = lambda: btn_click(0)).grid(row = 4, column = 0, columnspan = 2, padx = 1, pady = 1)\n",
    " \n",
    "point = Button(btns_frame, text = \".\", fg = \"black\", width = 10, height = 3, bd = 0, bg = \"#eee\", cursor = \"hand2\",\n",
    "               command = lambda: btn_click(\".\")).grid(row = 4, column = 2, padx = 1, pady = 1)\n",
    " \n",
    "equals = Button(btns_frame, text = \"=\", fg = \"black\", width = 10, height = 3, bd = 0, bg = \"#eee\", cursor = \"hand2\",\n",
    "                command = lambda: btn_equal()).grid(row = 4, column = 3, padx = 1, pady = 1)\n",
    " \n",
    "\n",
    "root.mainloop()"
   ]
  },
  {
   "cell_type": "code",
   "execution_count": 6,
   "id": "6dc2c6df",
   "metadata": {},
   "outputs": [
    {
     "data": {
      "text/html": [
       "<style>.container { width:90% !important; }</style>"
      ],
      "text/plain": [
       "<IPython.core.display.HTML object>"
      ]
     },
     "metadata": {},
     "output_type": "display_data"
    }
   ],
   "source": [
    "from IPython.core.display import display, HTML\n",
    "display(HTML(\"<style>.container { width:90% !important; }</style>\"))"
   ]
  },
  {
   "cell_type": "code",
   "execution_count": null,
   "id": "05684af8",
   "metadata": {},
   "outputs": [],
   "source": []
  }
 ],
 "metadata": {
  "kernelspec": {
   "display_name": "Python (bot)",
   "language": "python",
   "name": "bot"
  },
  "language_info": {
   "codemirror_mode": {
    "name": "ipython",
    "version": 3
   },
   "file_extension": ".py",
   "mimetype": "text/x-python",
   "name": "python",
   "nbconvert_exporter": "python",
   "pygments_lexer": "ipython3",
   "version": "3.9.7"
  }
 },
 "nbformat": 4,
 "nbformat_minor": 5
}
